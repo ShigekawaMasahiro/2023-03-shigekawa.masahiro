{
 "cells": [
  {
   "cell_type": "code",
   "execution_count": 6,
   "id": "ef5f5c16",
   "metadata": {},
   "outputs": [
    {
     "name": "stdout",
     "output_type": "stream",
     "text": [
      "OK\n",
      "[354ec89f 18c6c628 a7c73255 fd8b6404]\n"
     ]
    }
   ],
   "source": [
    "import pynq\n",
    "import numpy as np\n",
    "import sys\n",
    "import time\n",
    "\n",
    "\n",
    "ol = pynq.Overlay('./design_1.bit')\n",
    "mmio = ol.LEA_En_128_0.mmio\n",
    "\n",
    "def ndarray_from_mmio(name, size, dtype):\n",
    "    reginfo = ol.ip_dict['LEA_En_128_0']['registers'][name]\n",
    "    addr_start = reginfo['address_offset'] // 4\n",
    "    addr_end = addr_start + reginfo['size'] // 4\n",
    "    mmio_array = mmio.array[addr_start:addr_end]\n",
    "    mmio_array.dtype = np.uint32\n",
    "    return mmio_array.reshape(size)\n",
    "\n",
    "\n",
    "mmio_ciphertext = ndarray_from_mmio(\n",
    "    'Memory_Cipher', size=4, dtype=np.uint32)\n",
    "mmio_plaintext = ndarray_from_mmio('Memory_Plain', size=4, dtype=np.uint32)\n",
    "mmio_key = ndarray_from_mmio('Memory_Key_K', size=4, dtype=np.uint32)\n",
    "\n",
    "\n",
    "def LEA128Enc_fpga(ciphertext: np.ndarray, plaintext: np.ndarray, key: np.ndarray):\n",
    "    mmio_plaintext[:] = plaintext\n",
    "    mmio_key[:] = key\n",
    "    mmio.write(0, 1)\n",
    "    # 0x02 means DONE.\n",
    "    while not (mmio.read(0) & 0x02):\n",
    "        pass\n",
    "\n",
    "\n",
    "# Encrypt a test vector using FPGA\n",
    "# ISO/IEC 29192-2, p.49\n",
    "key = np.array([0x3c2d1e0f, 0x78695a4b, 0xb4a59687, 0xf0e1d2c3])\n",
    "plaintext = np.array([0x13121110, 0x17161514, 0x1b1a1918, 0x1f1e1d1c])\n",
    "ciphertext = np.array([0x354ec89f, 0x18c6c628, 0xa7c73255, 0xfd8b6404])\n",
    "\n",
    "LEA128Enc_fpga(mmio_ciphertext, plaintext, key)\n",
    "ciphertext_fpga = mmio_ciphertext.copy()\n",
    "\n",
    "# Check the result\n",
    "for i in range(0, 4):\n",
    "    if ciphertext[i] != ciphertext_fpga[i]:\n",
    "        print(\"NG\")\n",
    "        for j in range(0, 4):\n",
    "            print(str(j) + '  ' + format(ciphertext[j], '#08x') +\n",
    "                  ' ' + format(ciphertext_fpga[j], '#08x'), end='')\n",
    "            if j == i:\n",
    "                print(' xxxxxxx', flush=True)\n",
    "            else:\n",
    "                print('', flush=True)\n",
    "        sys.exit(1)\n",
    "\n",
    "print(\"OK\", flush=True)\n",
    "np.set_printoptions(formatter={'int': '{:x}'.format})\n",
    "print(ciphertext)"
   ]
  },
  {
   "cell_type": "code",
   "execution_count": 7,
   "id": "92dda763",
   "metadata": {},
   "outputs": [
    {
     "name": "stdout",
     "output_type": "stream",
     "text": [
      "Num 131072\n",
      "Total 8778107534 ns\n",
      "CPU   8797672130 ns\n",
      "Per 1 time \n",
      "Total 66971.64561462402 ns\n",
      "CPU   67120.91163635254 ns\n"
     ]
    }
   ],
   "source": [
    "# Measure execution time.\n",
    "NUM_OF_LOOPS = 1 << 17\n",
    "i = 0\n",
    "start_time = time.perf_counter_ns()\n",
    "start_time_cpu = time.process_time_ns()\n",
    "while i < NUM_OF_LOOPS:\n",
    "    LEA128Enc_fpga(mmio_ciphertext, plaintext, key)\n",
    "    i += 1\n",
    "end_time_cpu = time.process_time_ns()\n",
    "end_time = time.perf_counter_ns()\n",
    "elapsed_time_ns = end_time - start_time\n",
    "elapsed_time_cpu_ns = end_time_cpu - start_time_cpu\n",
    "print('Num ' + str(NUM_OF_LOOPS))\n",
    "print('Total ' + str(elapsed_time_ns) + ' ns')\n",
    "print('CPU   ' + str(elapsed_time_cpu_ns) + ' ns')\n",
    "print('Per 1 time ')\n",
    "print('Total ' + '{} ns'.format((end_time -\n",
    "      start_time) / NUM_OF_LOOPS))\n",
    "print('CPU   ' + '{} ns'.format((end_time_cpu -\n",
    "      start_time_cpu) / NUM_OF_LOOPS))"
   ]
  },
  {
   "cell_type": "code",
   "execution_count": null,
   "id": "24b6ff68",
   "metadata": {},
   "outputs": [],
   "source": []
  }
 ],
 "metadata": {
  "kernelspec": {
   "display_name": "Python 3",
   "language": "python",
   "name": "python3"
  },
  "language_info": {
   "codemirror_mode": {
    "name": "ipython",
    "version": 3
   },
   "file_extension": ".py",
   "mimetype": "text/x-python",
   "name": "python",
   "nbconvert_exporter": "python",
   "pygments_lexer": "ipython3",
   "version": "3.8.2"
  }
 },
 "nbformat": 4,
 "nbformat_minor": 5
}
